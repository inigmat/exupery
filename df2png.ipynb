{
  "nbformat": 4,
  "nbformat_minor": 0,
  "metadata": {
    "colab": {
      "provenance": [],
      "authorship_tag": "ABX9TyPqxuDR5FavsN9BIWvuDFnx",
      "include_colab_link": true
    },
    "kernelspec": {
      "name": "python3",
      "display_name": "Python 3"
    },
    "language_info": {
      "name": "python"
    }
  },
  "cells": [
    {
      "cell_type": "markdown",
      "metadata": {
        "id": "view-in-github",
        "colab_type": "text"
      },
      "source": [
        "<a href=\"https://colab.research.google.com/github/inigmat/exupery/blob/main/df2png.ipynb\" target=\"_parent\"><img src=\"https://colab.research.google.com/assets/colab-badge.svg\" alt=\"Open In Colab\"/></a>"
      ]
    },
    {
      "cell_type": "code",
      "source": [
        "# Installing necessary packages for creating PNG files from tables. Initial run takes about 1 min\n",
        "!pip freeze | grep texlive || (apt-get update && apt-get install -y texlive texlive-latex-extra texlive-fonts-recommended dvipng)\n",
        "!pip freeze | grep imagemagick || apt-get install -y imagemagick\n",
        "!pip freeze | grep pdf2svg || apt-get install -y pdf2svg\n",
        "!pip freeze | grep cairosvg || pip install cairosvg"
      ],
      "metadata": {
        "colab": {
          "base_uri": "https://localhost:8080/"
        },
        "id": "KaDjZDu238ee",
        "outputId": "5de5a2e3-8828-48a4-95e2-fac34dc781c2"
      },
      "execution_count": 1,
      "outputs": [
        {
          "output_type": "stream",
          "name": "stdout",
          "text": [
            "\r0% [Working]\r            \rHit:1 https://cloud.r-project.org/bin/linux/ubuntu focal-cran40/ InRelease\n",
            "\r0% [Connecting to archive.ubuntu.com (91.189.91.39)] [Waiting for headers] [Con\r                                                                               \rHit:2 https://developer.download.nvidia.com/compute/cuda/repos/ubuntu2004/x86_64  InRelease\n",
            "Get:3 http://security.ubuntu.com/ubuntu focal-security InRelease [114 kB]\n",
            "Hit:4 http://archive.ubuntu.com/ubuntu focal InRelease\n",
            "Get:5 http://archive.ubuntu.com/ubuntu focal-updates InRelease [114 kB]\n",
            "Hit:6 http://ppa.launchpad.net/c2d4u.team/c2d4u4.0+/ubuntu focal InRelease\n",
            "Get:7 http://archive.ubuntu.com/ubuntu focal-backports InRelease [108 kB]\n",
            "Hit:8 http://ppa.launchpad.net/cran/libgit2/ubuntu focal InRelease\n",
            "Hit:9 http://ppa.launchpad.net/deadsnakes/ppa/ubuntu focal InRelease\n",
            "Hit:10 http://ppa.launchpad.net/graphics-drivers/ppa/ubuntu focal InRelease\n",
            "Hit:11 http://ppa.launchpad.net/ubuntugis/ppa/ubuntu focal InRelease\n",
            "Fetched 336 kB in 2s (145 kB/s)\n",
            "Reading package lists... Done\n",
            "Reading package lists... Done\n",
            "Building dependency tree       \n",
            "Reading state information... Done\n",
            "dvipng is already the newest version (1.15-1.1).\n",
            "texlive is already the newest version (2019.20200218-1).\n",
            "texlive-fonts-recommended is already the newest version (2019.20200218-1).\n",
            "texlive-latex-extra is already the newest version (2019.202000218-1).\n",
            "0 upgraded, 0 newly installed, 0 to remove and 15 not upgraded.\n",
            "Reading package lists... Done\n",
            "Building dependency tree       \n",
            "Reading state information... Done\n",
            "imagemagick is already the newest version (8:6.9.10.23+dfsg-2.1ubuntu11.9).\n",
            "0 upgraded, 0 newly installed, 0 to remove and 15 not upgraded.\n",
            "Reading package lists... Done\n",
            "Building dependency tree       \n",
            "Reading state information... Done\n",
            "pdf2svg is already the newest version (0.2.3-1).\n",
            "0 upgraded, 0 newly installed, 0 to remove and 15 not upgraded.\n",
            "Requirement already satisfied: cairosvg in /usr/local/lib/python3.10/dist-packages (2.7.0)\n",
            "Requirement already satisfied: cairocffi in /usr/local/lib/python3.10/dist-packages (from cairosvg) (1.6.0)\n",
            "Requirement already satisfied: cssselect2 in /usr/local/lib/python3.10/dist-packages (from cairosvg) (0.7.0)\n",
            "Requirement already satisfied: defusedxml in /usr/local/lib/python3.10/dist-packages (from cairosvg) (0.7.1)\n",
            "Requirement already satisfied: pillow in /usr/local/lib/python3.10/dist-packages (from cairosvg) (8.4.0)\n",
            "Requirement already satisfied: tinycss2 in /usr/local/lib/python3.10/dist-packages (from cairosvg) (1.2.1)\n",
            "Requirement already satisfied: cffi>=1.1.0 in /usr/local/lib/python3.10/dist-packages (from cairocffi->cairosvg) (1.15.1)\n",
            "Requirement already satisfied: webencodings in /usr/local/lib/python3.10/dist-packages (from cssselect2->cairosvg) (0.5.1)\n",
            "Requirement already satisfied: pycparser in /usr/local/lib/python3.10/dist-packages (from cffi>=1.1.0->cairocffi->cairosvg) (2.21)\n"
          ]
        }
      ]
    },
    {
      "cell_type": "code",
      "source": [
        "'''\n",
        "This code defines a function to convert a LaTeX table into a PNG image.\n",
        "\n",
        "Function:\n",
        "latex_table_to_png(obj, name)\n",
        "- Converts a LaTeX table code into a PNG image.\n",
        "- Parameters:\n",
        "    - obj: The LaTeX table code.\n",
        "    - name: The desired name for the output PNG file.\n",
        "- Steps:\n",
        "    1. Save the LaTeX code to a file named 'table.tex'.\n",
        "    2. Compile the LaTeX file into a DVI file using the 'latex' command.\n",
        "    3. Convert the DVI file to an SVG file using the 'dvisvgm' command.\n",
        "    4. Convert the SVG file to a PNG file using the 'cairosvg' library.\n",
        "    5. Download the PNG file using the 'files.download' function from Google Colab.\n",
        "\n",
        "Note:\n",
        "- The function assumes that the necessary packages and dependencies (such as 'latex', 'dvisvgm', and 'cairosvg') are installed and accessible in the environment.\n",
        "- If any errors occur during the execution, appropriate error messages will be displayed.\n",
        "'''\n",
        "\n",
        "from google.colab import files\n",
        "import subprocess\n",
        "import cairosvg\n",
        "\n",
        "\n",
        "def latex_table_to_png(obj, name):\n",
        "    # LaTeX table code\n",
        "    template = r'''\\documentclass[preview]{{standalone}}\n",
        "    \\usepackage{{booktabs}}\n",
        "    \\begin{{document}}\n",
        "    {}\n",
        "    \\end{{document}}\n",
        "    '''\n",
        "\n",
        "    # Save LaTeX code to a file\n",
        "    with open('table.tex', 'w') as f:\n",
        "        f.write(template.format(obj))\n",
        "\n",
        "    try:\n",
        "         # Compile LaTeX file to DVI file\n",
        "        subprocess.check_call(['latex', 'table.tex'])\n",
        "\n",
        "        # Convert DVI file to SVG file\n",
        "        subprocess.check_call(['dvisvgm', '--no-fonts', 'table.dvi', '-o', 'table.svg'])\n",
        "\n",
        "        # PNG file name\n",
        "        png_filename = f'{name}.png'\n",
        "\n",
        "        # Convert SVG file to PNG file\n",
        "        cairosvg.svg2png(url='table.svg', write_to=png_filename, scale=1.7)\n",
        "\n",
        "        # Download the file\n",
        "        files.download(png_filename)\n",
        "\n",
        "    except subprocess.CalledProcessError as e:\n",
        "        print(\"Error executing command:\", e)\n",
        "\n",
        "    except IOError as e:\n",
        "        print(\"Error with file operations:\", e)\n"
      ],
      "metadata": {
        "id": "8oiTGxO39Ct5"
      },
      "execution_count": 2,
      "outputs": []
    },
    {
      "cell_type": "code",
      "source": [
        "# Example\n",
        "import pandas as pd\n",
        "\n",
        "CSV_URL = 'https://raw.githubusercontent.com/inigmat/exupery/main/files/bbs.csv'\n",
        "data = pd.read_csv(CSV_URL)\n",
        "bbs = data.drop(columns='index')\n",
        "bbs_latex = bbs.style.to_latex(hrules=True)\n",
        "latex_table_to_png(bbs_latex, 'bbs')"
      ],
      "metadata": {
        "colab": {
          "base_uri": "https://localhost:8080/",
          "height": 17
        },
        "id": "sR6NlzUN4aJa",
        "outputId": "ef9aae67-3bb1-4b53-ae38-153876d118a5"
      },
      "execution_count": 3,
      "outputs": [
        {
          "output_type": "display_data",
          "data": {
            "text/plain": [
              "<IPython.core.display.Javascript object>"
            ],
            "application/javascript": [
              "\n",
              "    async function download(id, filename, size) {\n",
              "      if (!google.colab.kernel.accessAllowed) {\n",
              "        return;\n",
              "      }\n",
              "      const div = document.createElement('div');\n",
              "      const label = document.createElement('label');\n",
              "      label.textContent = `Downloading \"${filename}\": `;\n",
              "      div.appendChild(label);\n",
              "      const progress = document.createElement('progress');\n",
              "      progress.max = size;\n",
              "      div.appendChild(progress);\n",
              "      document.body.appendChild(div);\n",
              "\n",
              "      const buffers = [];\n",
              "      let downloaded = 0;\n",
              "\n",
              "      const channel = await google.colab.kernel.comms.open(id);\n",
              "      // Send a message to notify the kernel that we're ready.\n",
              "      channel.send({})\n",
              "\n",
              "      for await (const message of channel.messages) {\n",
              "        // Send a message to notify the kernel that we're ready.\n",
              "        channel.send({})\n",
              "        if (message.buffers) {\n",
              "          for (const buffer of message.buffers) {\n",
              "            buffers.push(buffer);\n",
              "            downloaded += buffer.byteLength;\n",
              "            progress.value = downloaded;\n",
              "          }\n",
              "        }\n",
              "      }\n",
              "      const blob = new Blob(buffers, {type: 'application/binary'});\n",
              "      const a = document.createElement('a');\n",
              "      a.href = window.URL.createObjectURL(blob);\n",
              "      a.download = filename;\n",
              "      div.appendChild(a);\n",
              "      a.click();\n",
              "      div.remove();\n",
              "    }\n",
              "  "
            ]
          },
          "metadata": {}
        },
        {
          "output_type": "display_data",
          "data": {
            "text/plain": [
              "<IPython.core.display.Javascript object>"
            ],
            "application/javascript": [
              "download(\"download_25032bbe-f730-48c7-9a86-b23909f8b00a\", \"bbs.png\", 78854)"
            ]
          },
          "metadata": {}
        }
      ]
    }
  ]
}