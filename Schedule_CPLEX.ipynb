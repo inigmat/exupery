{
  "cells": [
    {
      "cell_type": "markdown",
      "metadata": {
        "id": "view-in-github",
        "colab_type": "text"
      },
      "source": [
        "<a href=\"https://colab.research.google.com/github/inigmat/exupery/blob/main/Schedule_CPLEX.ipynb\" target=\"_parent\"><img src=\"https://colab.research.google.com/assets/colab-badge.svg\" alt=\"Open In Colab\"/></a>"
      ]
    },
    {
      "cell_type": "markdown",
      "source": [
        "# CPLEX Installation in Goolge Colab\n",
        "\n",
        "Modified 'Chapter 5. Using cumulative functions in the house building problem' from https://ibmdecisionoptimization.github.io/tutorials/html/Scheduling_Tutorial.html"
      ],
      "metadata": {
        "id": "5LI6RcxwrTqP"
      }
    },
    {
      "cell_type": "code",
      "source": [
        "import sys\n",
        "\n",
        "try:\n",
        "    import docplex.mp\n",
        "except:\n",
        "    if hasattr(sys, 'real_prefix'):\n",
        "        !pip install docplex\n",
        "    else:\n",
        "        !pip install --user docplex\n",
        "\n",
        "try:\n",
        "    import cplex\n",
        "except:\n",
        "    if hasattr(sys, 'real_prefix'):\n",
        "        !pip install cplex\n",
        "    else:\n",
        "        !pip install --user cplex\n",
        "        exit()"
      ],
      "metadata": {
        "id": "wgETQFdVrS4k"
      },
      "execution_count": 16,
      "outputs": []
    },
    {
      "cell_type": "markdown",
      "metadata": {
        "id": "Dw9Y7WxdrQ1O"
      },
      "source": [
        "## Problem to be solved\n",
        "\n",
        "The problem consists of assigning start dates to a set of tasks in such a way that the schedule satisfies temporal constraints and minimizes a criterion. The criterion\n",
        "for this problem is to minimize the overall completion date.\n",
        "\n",
        "For each task type in the house building project, the following table shows the duration of the task in days along with the tasks that must be finished before the task can start. Each task requires any one of the three workers. A worker can only work on one task at a time; each task, once started, may not be interrupted."
      ]
    },
    {
      "cell_type": "markdown",
      "metadata": {
        "id": "a8wtAQEprQ1P"
      },
      "source": [
        "House construction tasks:\n",
        "\n",
        "| Task      | Duration | Preceding tasks      |\n",
        "|-----------|----------|----------------------|\n",
        "| masonry   | 35       |                      |\n",
        "| carpentry | 15       |  masonry             |\n",
        "| plumbing  | 40       |  masonry             |\n",
        "| ceiling   | 15       |  masonry             |\n",
        "| roofingv  |  5       |  carpentry           |\n",
        "| painting  | 10       |  ceiling             |\n",
        "| windows   |  5       |  roofing             |\n",
        "| facade    | 10       |  roofing, plumbing   |\n",
        "| garden    |  5       | roofing, plumbing    |\n",
        "| moving    |  5       |  windows, facade, garden,painting |"
      ]
    },
    {
      "cell_type": "markdown",
      "metadata": {
        "collapsed": true,
        "id": "BzOjrUhPrQ1P"
      },
      "source": [
        "There is an earliest starting date for each of the five houses that must be built.\n",
        "\n",
        "| House | Earliest starting date |\n",
        "|---|----|\n",
        "| 0 | 31 |\n",
        "| 1 | 0  |\n",
        "| 2 | 90 |\n",
        "| 3 | 120|\n",
        "| 4 | 90 |\n",
        "\n",
        "Solving the problem consists of determining starting dates for the tasks such that\n",
        "the overall completion date is minimized."
      ]
    },
    {
      "cell_type": "markdown",
      "metadata": {
        "collapsed": true,
        "id": "Li5QJpU6rQ1Q"
      },
      "source": [
        "## Prepare data\n",
        "In the related data file, the data provided includes the number of houses (NbHouses), the number of workers (NbWorkers), the names of the tasks (TaskNames), the sizes of the tasks (Duration), the precedence relations (Precedences), and the earliest start dates of the houses (ReleaseDate).\n",
        "\n",
        "As each house has an earliest starting date, the task interval variables are declared to have a start date no earlier than that release date of the associated house. The ending dates of the tasks are not constrained, so the upper value of the range for the variables is maxint."
      ]
    },
    {
      "cell_type": "code",
      "execution_count": 17,
      "metadata": {
        "id": "TQUAEOxGrQ1R"
      },
      "outputs": [],
      "source": [
        "NbWorkers = 3\n",
        "NbHouses  = 5\n",
        "\n",
        "TaskNames = (\"masonry\",\"carpentry\",\"plumbing\",\n",
        "             \"ceiling\",\"roofing\",\"painting\",\n",
        "             \"windows\",\"facade\",\"garden\",\"moving\")\n",
        "\n",
        "Duration =  [35, 15, 40, 15, 5, 10, 5, 10, 5, 5]\n",
        "\n",
        "ReleaseDate = [31, 0, 90, 120, 90]"
      ]
    },
    {
      "cell_type": "code",
      "source": [
        "Houses = range(NbHouses)"
      ],
      "metadata": {
        "id": "9pDbN6sRxO_t"
      },
      "execution_count": 18,
      "outputs": []
    },
    {
      "cell_type": "code",
      "execution_count": 19,
      "metadata": {
        "id": "znydTsxurQ1R"
      },
      "outputs": [],
      "source": [
        "Precedences = [(\"masonry\", \"carpentry\"), (\"masonry\", \"plumbing\"), (\"masonry\", \"ceiling\"),\n",
        "               (\"carpentry\", \"roofing\"), (\"ceiling\", \"painting\"), (\"roofing\", \"windows\"),\n",
        "               (\"roofing\", \"facade\"), (\"plumbing\", \"facade\"), (\"roofing\", \"garden\"),\n",
        "               (\"plumbing\", \"garden\"), (\"windows\", \"moving\"), (\"facade\", \"moving\"),\n",
        "               (\"garden\", \"moving\"), (\"painting\", \"moving\")]"
      ]
    },
    {
      "cell_type": "markdown",
      "metadata": {
        "collapsed": true,
        "id": "RFHC3qsLrQ1S"
      },
      "source": [
        "## Create the interval variables"
      ]
    },
    {
      "cell_type": "code",
      "execution_count": 20,
      "metadata": {
        "id": "wF81ULK0rQ1S"
      },
      "outputs": [],
      "source": [
        "from docplex.cp.model import *"
      ]
    },
    {
      "cell_type": "code",
      "execution_count": 21,
      "metadata": {
        "id": "EkCy0RdqrQ1T"
      },
      "outputs": [],
      "source": [
        "mdl4 = CpoModel()"
      ]
    },
    {
      "cell_type": "code",
      "execution_count": 22,
      "metadata": {
        "id": "NAwIpA_ArQ1T"
      },
      "outputs": [],
      "source": [
        "itvs = {}\n",
        "for h in Houses:\n",
        "    for i,t in enumerate(TaskNames):\n",
        "        itvs[h,t] = mdl4.interval_var(start = [ReleaseDate[h], INTERVAL_MAX], size=Duration[i])"
      ]
    },
    {
      "cell_type": "markdown",
      "metadata": {
        "id": "6lelw6fhrQ1U"
      },
      "source": [
        "As the workers are equivalent in this problem, it is better to represent them as one pool of workers instead of as individual workers with no overlap constraints as was done in the earlier examples.\n",
        "The expression representing usage of this pool of workers can be modified by the interval variables that require a worker.\n",
        "\n",
        "To model both the limited number of workers and the limited budget, we need to represent the sum of the individual contributions associated with the interval variables.\n",
        "In the case of the cash budget, some tasks consume some of the budget at the start.\n",
        "In the case of the workers, a task requires the worker only for the duration of the task.\n"
      ]
    },
    {
      "cell_type": "markdown",
      "metadata": {
        "collapsed": true,
        "id": "WvoSckqurQ1U"
      },
      "source": [
        "## Declare the worker usage function"
      ]
    },
    {
      "cell_type": "code",
      "execution_count": 23,
      "metadata": {
        "id": "ewcX82Y6rQ1W"
      },
      "outputs": [],
      "source": [
        "workers_usage = step_at(0, 0)\n",
        "for h in Houses:\n",
        "    for t in TaskNames:\n",
        "        workers_usage += mdl4.pulse(itvs[h,t],1)"
      ]
    },
    {
      "cell_type": "markdown",
      "metadata": {
        "collapsed": true,
        "id": "D_8O6cZ4rQ1d"
      },
      "source": [
        "## Add the temporal constraints"
      ]
    },
    {
      "cell_type": "code",
      "execution_count": 24,
      "metadata": {
        "id": "llZcW1dkrQ1e"
      },
      "outputs": [],
      "source": [
        "for h in Houses:\n",
        "    for p in Precedences:\n",
        "        mdl4.add( mdl4.end_before_start(itvs[h,p[0]], itvs[h,p[1]]) )"
      ]
    },
    {
      "cell_type": "markdown",
      "metadata": {
        "collapsed": true,
        "id": "a7gs_DG2rQ1e"
      },
      "source": [
        "## Add the worker usage constraint"
      ]
    },
    {
      "cell_type": "code",
      "execution_count": 25,
      "metadata": {
        "id": "EieUDYVJrQ1f"
      },
      "outputs": [],
      "source": [
        "mdl4.add( workers_usage <= NbWorkers )"
      ]
    },
    {
      "cell_type": "markdown",
      "metadata": {
        "collapsed": true,
        "id": "5dOF0Ez0rQ1h"
      },
      "source": [
        "## Add the objective"
      ]
    },
    {
      "cell_type": "code",
      "execution_count": 26,
      "metadata": {
        "id": "WX0q1DVcrQ1h"
      },
      "outputs": [],
      "source": [
        "mdl4.add(\n",
        "    mdl4.minimize(\n",
        "        mdl4.max( mdl4.end_of(itvs[h,\"moving\"]) for h in Houses)\n",
        "    )\n",
        ")"
      ]
    },
    {
      "cell_type": "markdown",
      "metadata": {
        "id": "dEhYgglMrQ1i"
      },
      "source": [
        "## Solve the model"
      ]
    },
    {
      "cell_type": "code",
      "execution_count": 27,
      "metadata": {
        "id": "wus9d0BzrQ1i",
        "colab": {
          "base_uri": "https://localhost:8080/"
        },
        "outputId": "851ff050-772a-4e64-a4dd-7d357494eef9"
      },
      "outputs": [
        {
          "output_type": "stream",
          "name": "stdout",
          "text": [
            "<ipython-input-25-219fc9d49246>:1(stream:134:1): Warning: Cumulative expression 'stepAt': height is zero, expression is zero everywhere.\n",
            "                                                            stepAt(0, 0)\n",
            " ! --------------------------------------------------- CP Optimizer 22.1.1.0 --\n",
            " ! Minimization problem - 50 variables, 71 constraints\n",
            " ! FailLimit            = 30000\n",
            " ! Initial process time : 0.00s (0.00s extraction + 0.00s propagation)\n",
            " !  . Log search space  : 282.2 (before), 282.2 (after)\n",
            " !  . Memory usage      : 586.4 kB (before), 586.4 kB (after)\n",
            " ! Using parallel search with 2 workers.\n",
            " ! ----------------------------------------------------------------------------\n",
            " !          Best Branches  Non-fixed    W       Branch decision\n",
            "                        0         50                 -\n",
            " + New bound is 210\n",
            " *           271      103  0.21s        1      (gap is 22.51%)\n",
            " *           270      203  0.21s        1      (gap is 22.22%)\n",
            " *           265      834  0.21s        1      (gap is 20.75%)\n",
            "             265     1000          1    1       245  = startOf(_ITV_7)\n",
            "             265     2000          7    1       245 != startOf(_ITV_49)\n",
            "             265     3000          6    1       245  = startOf(_ITV_26)\n",
            "             265     3208          6    1   F        -\n",
            " + New bound is 264 (gap is 0.38%)\n",
            " ! Using failure-directed search.\n",
            "             265     4000          1    1   F   200 <= startOf(_ITV_19)\n",
            "             265     5000          1    1   F         !presenceOf(_ITV_46)\n",
            "             265     6000          1    1   F   189 <= startOf(_ITV_50)\n",
            "             265     1000          1    2        91  = startOf(_ITV_42)\n",
            "             265     2000          6    2   F   241  = startOf(_ITV_38)\n",
            "             265     3000          8    2   F         !presenceOf(_ITV_27)\n",
            "             265     4000          1    2   F   210  = startOf(_ITV_38)\n",
            "             265     5000          1    2       245 != startOf(_ITV_47)\n",
            "             265     6000          1    2        90  = startOf(_ITV_42)\n",
            "             265     7000          1    2   F   241  = startOf(_ITV_26)\n",
            "             265     8000          1    2       220 != startOf(_ITV_6)\n",
            "             265     9000          1    2   F         !presenceOf(_ITV_47)\n",
            " ! Time = 0.21s, Average fail depth = 33, Memory usage = 2.1 MB\n",
            " ! Current bound is 264 (gap is 0.38%)\n",
            " !          Best Branches  Non-fixed    W       Branch decision\n",
            "             265    10000          1    2   F         !presenceOf(_ITV_36)\n",
            "             265    11000          1    2   F   190  = startOf(_ITV_25)\n",
            "             265    12000          1    2       245 != startOf(_ITV_40)\n",
            "             265    13000          2    2   F   250  = startOf(_ITV_7)\n",
            "             265    14000          1    2   F         !presenceOf(_ITV_10)\n",
            "             265    15000          1    2       246 != startOf(_ITV_27)\n",
            "             265    16000          1    2       195 != startOf(_ITV_35)\n",
            "             265    17000          1    2       245 != startOf(_ITV_6)\n",
            "             265    18000          1    2       166  = startOf(_ITV_33)\n",
            "             265    19000          1    2       245 != startOf(_ITV_27)\n",
            "             265    20000          1    2        76  = startOf(_ITV_3)\n",
            "             265    21000          1    2       215 != startOf(_ITV_8)\n",
            "             265    22000          1    2   F         !presenceOf(_ITV_9)\n",
            "             265    23000          1    2       241 != startOf(_ITV_18)\n",
            "             265    24000          1    2   F         !presenceOf(_ITV_39)\n",
            "             265    25000          1    2   F   250  = startOf(_ITV_39)\n",
            "             265    26000          1    2       150  = startOf(_ITV_46)\n",
            "             265     7000         50    1   F   159 <= startOf(_ITV_6)\n",
            "             265    27000          1    2   F         !presenceOf(_ITV_49)\n",
            "             265    28000          1    2       220  = startOf(_ITV_24)\n",
            " ! Time = 0.53s, Average fail depth = 23, Memory usage = 2.2 MB\n",
            " ! Current bound is 264 (gap is 0.38%)\n",
            " !          Best Branches  Non-fixed    W       Branch decision\n",
            "             265    29000          1    2       170  = startOf(_ITV_46)\n",
            "             265    30000          1    2   F         !presenceOf(_ITV_37)\n",
            "             265    31000          1    2       231 != startOf(_ITV_26)\n",
            "             265    32000          1    2   F   240  = startOf(_ITV_10)\n",
            "             265    33000          2    2   F   241  = startOf(_ITV_9)\n",
            "             265    34000          1    2   F   241  = startOf(_ITV_20)\n",
            "             265    35000          1    2   F    75  = startOf(_ITV_16)\n",
            "             265    36000          1    2       201 != startOf(_ITV_39)\n",
            "             265    37000          1    2   F   251  = startOf(_ITV_19)\n",
            "             265    38000          1    2        70  = startOf(_ITV_3)\n",
            "             265    39000          1    2       225  = startOf(_ITV_39)\n",
            "             265    40000          1    2   F   180  = startOf(_ITV_33)\n",
            "             265    41000          1    2   F   246  = startOf(_ITV_17)\n",
            "             265    42000          1    2   F         !presenceOf(_ITV_19)\n",
            "             265    43000          1    2       190  = startOf(_ITV_48)\n",
            "             265    44000          1    2   F         !presenceOf(_ITV_28)\n",
            "             265    45000          1    2   F   245  = startOf(_ITV_47)\n",
            "             265    46000          1    2       240 != startOf(_ITV_49)\n",
            "             265    47000          2    2   F   246  = startOf(_ITV_37)\n",
            "             265    48000          1    2       155  = startOf(_ITV_31)\n",
            " ! Time = 0.69s, Average fail depth = 23, Memory usage = 2.1 MB\n",
            " ! Current bound is 264 (gap is 0.38%)\n",
            " !          Best Branches  Non-fixed    W       Branch decision\n",
            "             265    49000          1    2   F         !presenceOf(_ITV_38)\n",
            "             265    50000          1    2   F         !presenceOf(_ITV_2)\n",
            "             265    51000          1    2   F         !presenceOf(_ITV_47)\n",
            "             265     8000          7    1   F   185 >= startOf(_ITV_4)\n",
            "             265    52000          1    2       235  = startOf(_ITV_47)\n",
            "             265    53000          1    2        31  = startOf(_ITV_2)\n",
            "             265    54000          1    2       175  = startOf(_ITV_23)\n",
            "             265    55000          1    2   F   190  = startOf(_ITV_10)\n",
            "             265    56000          2    2       245 != startOf(_ITV_20)\n",
            "             265    57000          1    2   F   236  = startOf(_ITV_46)\n",
            "             265    58000          2    2       205 != startOf(_ITV_35)\n",
            "             265    59000          1    2   F   240  = startOf(_ITV_39)\n",
            "             265    60000          1    2       246 != startOf(_ITV_27)\n",
            "             265    61000          2    2       245 != startOf(_ITV_27)\n",
            "             265    62000          1    2   F   235  = startOf(_ITV_49)\n",
            "             265    63000          4    2        85  = startOf(_ITV_5)\n",
            "             265    64000          1    2       235 != startOf(_ITV_49)\n",
            " ! ----------------------------------------------------------------------------\n",
            " ! Search terminated by limit, 3 solutions found.\n",
            " ! Best objective         : 265 (gap is 0.38%)\n",
            " ! Best bound             : 264\n",
            " ! ----------------------------------------------------------------------------\n",
            " ! Number of branches     : 89591\n",
            " ! Number of fails        : 39308\n",
            " ! Total memory usage     : 2.2 MB (2.1 MB CP Optimizer + 0.1 MB Concert)\n",
            " ! Time spent in solve    : 1.03s (1.03s engine + 0.00s extraction)\n",
            " ! Search speed (br. / s) : 87834.3\n",
            " ! ----------------------------------------------------------------------------\n",
            "done\n"
          ]
        }
      ],
      "source": [
        "# Solve the model\n",
        "msol4 = mdl4.solve(FailLimit=30000)\n",
        "print(\"done\")"
      ]
    },
    {
      "cell_type": "code",
      "execution_count": 28,
      "metadata": {
        "id": "LvMaCWDXrQ1j",
        "outputId": "d4031a2b-bfaa-437a-bfca-dff089f30c97",
        "colab": {
          "base_uri": "https://localhost:8080/"
        }
      },
      "outputs": [
        {
          "output_type": "stream",
          "name": "stdout",
          "text": [
            "Project duration in days:265\n"
          ]
        }
      ],
      "source": [
        "print(\"Project duration in days:\" + str( msol4.get_objective_values()[0] ))"
      ]
    },
    {
      "cell_type": "markdown",
      "source": [
        "## Plotting the results"
      ],
      "metadata": {
        "id": "5Hd9-WMO0EQ0"
      }
    },
    {
      "cell_type": "code",
      "execution_count": 29,
      "metadata": {
        "id": "A2jAmMhyrQ1m"
      },
      "outputs": [],
      "source": [
        "import docplex.cp.utils_visu as visu\n",
        "import matplotlib.pyplot as plt\n",
        "%matplotlib inline\n",
        "#Change the plot size\n",
        "from pylab import rcParams\n",
        "rcParams['figure.figsize'] = 15, 3"
      ]
    },
    {
      "cell_type": "code",
      "execution_count": 30,
      "metadata": {
        "id": "mJqlNno8rQ1n",
        "outputId": "9a241191-7536-4729-f11f-1181f5841743",
        "colab": {
          "base_uri": "https://localhost:8080/",
          "height": 214
        }
      },
      "outputs": [
        {
          "output_type": "display_data",
          "data": {
            "text/plain": [
              "<Figure size 1500x300 with 2 Axes>"
            ],
            "image/png": "[encoded data removed]"
          },
          "metadata": {}
        }
      ],
      "source": [
        "workersF = CpoStepFunction()\n",
        "for h in Houses:\n",
        "    for i,t in enumerate(TaskNames):\n",
        "        itv = msol4.get_var_solution(itvs[h,t])\n",
        "        workersF.add_value(itv.get_start(), itv.get_end(), 1)\n",
        "\n",
        "visu.timeline('Solution SchedCumul')\n",
        "visu.panel(name=\"Schedule\")\n",
        "for h in Houses:\n",
        "    for i,t in enumerate(TaskNames):\n",
        "        visu.interval(msol4.get_var_solution(itvs[h,t]), h, t)\n",
        "visu.panel(name=\"Workers\")\n",
        "visu.function(segments=workersF, style='area')\n",
        "visu.show()"
      ]
    }
  ],
  "metadata": {
    "anaconda-cloud": {},
    "kernelspec": {
      "display_name": "Python 3",
      "language": "python",
      "name": "python3"
    },
    "language_info": {
      "codemirror_mode": {
        "name": "ipython",
        "version": 3
      },
      "file_extension": ".py",
      "mimetype": "text/x-python",
      "name": "python",
      "nbconvert_exporter": "python",
      "pygments_lexer": "ipython3",
      "version": "3.6.1"
    },
    "colab": {
      "provenance": [],
      "toc_visible": true,
      "collapsed_sections": [
        "Dw9Y7WxdrQ1O"
      ],
      "include_colab_link": true
    }
  },
  "nbformat": 4,
  "nbformat_minor": 0
}