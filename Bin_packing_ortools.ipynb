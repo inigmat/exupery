{
 "cells": [
  {
   "cell_type": "code",
   "execution_count": 1,
   "metadata": {},
   "outputs": [
    {
     "name": "stderr",
     "output_type": "stream",
     "text": [
      "/var/folders/_g/bjx3wyj92f9gjghwwr9y32wr0000gp/T/ipykernel_6540/514771618.py:8: SettingWithCopyWarning: \n",
      "A value is trying to be set on a copy of a slice from a DataFrame.\n",
      "Try using .loc[row_indexer,col_indexer] = value instead\n",
      "\n",
      "See the caveats in the documentation: https://pandas.pydata.org/pandas-docs/stable/user_guide/indexing.html#returning-a-view-versus-a-copy\n",
      "  df_10[\"Qty\"] = df_10[\"Qty\"] // 24\n",
      "/var/folders/_g/bjx3wyj92f9gjghwwr9y32wr0000gp/T/ipykernel_6540/514771618.py:10: SettingWithCopyWarning: \n",
      "A value is trying to be set on a copy of a slice from a DataFrame.\n",
      "Try using .loc[row_indexer,col_indexer] = value instead\n",
      "\n",
      "See the caveats in the documentation: https://pandas.pydata.org/pandas-docs/stable/user_guide/indexing.html#returning-a-view-versus-a-copy\n",
      "  df_10['new'] = df_10.apply(lambda row: [row['Length']] * row['Qty'], axis=1)\n"
     ]
    },
    {
     "data": {
      "text/plain": [
       "25"
      ]
     },
     "execution_count": 1,
     "metadata": {},
     "output_type": "execute_result"
    }
   ],
   "source": [
    "from itertools import chain\n",
    "import pandas as pd\n",
    "\n",
    "csv = 'files/bbs.csv'\n",
    "# Load the CSV file (and \n",
    "#  the unnecessary columns).\n",
    "df = pd.read_csv(csv)\n",
    "df_10 = df[df['Dia'] == 10] \n",
    "df_10[\"Qty\"] = df_10[\"Qty\"] // 24\n",
    "df_10.loc[:,'Qty'] = df_10.loc[:,'Qty'].astype(int)\n",
    "df_10['new'] = df_10.apply(lambda row: [row['Length']] * row['Qty'], axis=1)\n",
    "weights = list(chain.from_iterable(df_10['new']))\n",
    "len(weights)"
   ]
  },
  {
   "cell_type": "code",
   "execution_count": 5,
   "metadata": {},
   "outputs": [
    {
     "name": "stdout",
     "output_type": "stream",
     "text": [
      "Bin number 0\n",
      "  Items packed: [1, 6, 9, 14]\n",
      "  Total weight: 11440\n",
      "\n",
      "Bin number 1\n",
      "  Items packed: [18, 19, 24]\n",
      "  Total weight: 11490\n",
      "\n",
      "Bin number 5\n",
      "  Items packed: [2, 5, 7, 10]\n",
      "  Total weight: 11440\n",
      "\n",
      "Bin number 10\n",
      "  Items packed: [15, 21, 23]\n",
      "  Total weight: 11490\n",
      "\n",
      "Bin number 17\n",
      "  Items packed: [3, 11, 12, 16]\n",
      "  Total weight: 11440\n",
      "\n",
      "Bin number 22\n",
      "  Items packed: [13, 20, 22]\n",
      "  Total weight: 11490\n",
      "\n",
      "Bin number 24\n",
      "  Items packed: [0, 4, 8, 17]\n",
      "  Total weight: 11210\n",
      "\n",
      "\n",
      "Number of bins used: 7\n",
      "Time =  15321  milliseconds\n"
     ]
    }
   ],
   "source": [
    "from ortools.linear_solver import pywraplp\n",
    "\n",
    "\n",
    "def create_data_model(weights):\n",
    "    \"\"\"Create the data for the example.\"\"\"\n",
    "    data = {}\n",
    "    data['weights'] = weights\n",
    "    data['items'] = list(range(len(weights)))\n",
    "    data['bins'] = data['items']\n",
    "    data['bin_capacity'] = 11700\n",
    "    return data\n",
    "\n",
    "def main():\n",
    "    data = create_data_model(weights)\n",
    "\n",
    "    # Create the mip solver with the SCIP backend.\n",
    "    solver = pywraplp.Solver.CreateSolver('SCIP')\n",
    "    #solver.set_time_limit(60)\n",
    "\n",
    "    if not solver:\n",
    "        return\n",
    "\n",
    "    # Variables\n",
    "    # x[i, j] = 1 if item i is packed in bin j.\n",
    "    x = {}\n",
    "    for i in data['items']:\n",
    "        for j in data['bins']:\n",
    "            x[(i, j)] = solver.IntVar(0, 1, 'x_%i_%i' % (i, j))\n",
    "\n",
    "    # y[j] = 1 if bin j is used.\n",
    "    y = {}\n",
    "    for j in data['bins']:\n",
    "        y[j] = solver.IntVar(0, 1, 'y[%i]' % j)\n",
    "\n",
    "    # Constraints\n",
    "    # Each item must be in exactly one bin.\n",
    "    for i in data['items']:\n",
    "        solver.Add(sum(x[i, j] for j in data['bins']) == 1)\n",
    "\n",
    "    # The amount packed in each bin cannot exceed its capacity.\n",
    "    for j in data['bins']:\n",
    "        solver.Add(\n",
    "            sum(x[(i, j)] * data['weights'][i] for i in data['items']) <= y[j] * data['bin_capacity'])\n",
    "\n",
    "    # Objective: minimize the number of bins used.\n",
    "    solver.Minimize(solver.Sum([y[j] for j in data['bins']]))\n",
    "\n",
    "    status = solver.Solve()\n",
    "\n",
    "    if status == pywraplp.Solver.OPTIMAL:\n",
    "        num_bins = 0\n",
    "        for j in data['bins']:\n",
    "            if y[j].solution_value() == 1:\n",
    "                bin_items = []\n",
    "                bin_weight = 0\n",
    "                for i in data['items']:\n",
    "                    if x[i, j].solution_value() > 0:\n",
    "                        bin_items.append(i)\n",
    "                        bin_weight += data['weights'][i]\n",
    "                if bin_items:\n",
    "                    num_bins += 1\n",
    "                    print('Bin number', j)\n",
    "                    print('  Items packed:', bin_items)\n",
    "                    print('  Total weight:', bin_weight)\n",
    "                    print()\n",
    "        print()\n",
    "        print('Number of bins used:', num_bins)\n",
    "        print('Time = ', solver.WallTime(), ' milliseconds')\n",
    "    else:\n",
    "        print('The problem does not have an optimal solution.')\n",
    "\n",
    "\n",
    "if __name__ == '__main__':\n",
    "    main()"
   ]
  }
 ],
 "metadata": {
  "kernelspec": {
   "display_name": "venv",
   "language": "python",
   "name": "python3"
  },
  "language_info": {
   "codemirror_mode": {
    "name": "ipython",
    "version": 3
   },
   "file_extension": ".py",
   "mimetype": "text/x-python",
   "name": "python",
   "nbconvert_exporter": "python",
   "pygments_lexer": "ipython3",
   "version": "3.11.0"
  },
  "orig_nbformat": 4
 },
 "nbformat": 4,
 "nbformat_minor": 2
}
